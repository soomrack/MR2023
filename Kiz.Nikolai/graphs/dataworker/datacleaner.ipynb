{
 "cells": [
  {
   "cell_type": "code",
   "execution_count": 7,
   "metadata": {},
   "outputs": [],
   "source": [
    "import pandas as pd\n",
    "import numpy as np"
   ]
  },
  {
   "cell_type": "code",
   "execution_count": 8,
   "metadata": {},
   "outputs": [],
   "source": [
    "df = pd.read_csv(\"T_T100_SEGMENT_ALL_CARRIER.csv\")\n",
    "pd.set_option('display.max_columns', 50)\n"
   ]
  },
  {
   "cell_type": "code",
   "execution_count": 9,
   "metadata": {},
   "outputs": [],
   "source": [
    "required_columns = [\"AIR_TIME\", \"ORIGIN_CITY_NAME\", \"DEST_CITY_NAME\"]\n",
    "all_columns = df.columns.tolist()\n",
    "to_delete = list(set(all_columns).difference(set(required_columns)))"
   ]
  },
  {
   "cell_type": "code",
   "execution_count": 10,
   "metadata": {},
   "outputs": [],
   "source": [
    "cleared_data = df.dropna().drop(to_delete, axis=1)\n",
    "cleared_data.drop(cleared_data[cleared_data[\"DEST_CITY_NAME\"] == cleared_data[\"ORIGIN_CITY_NAME\"]].index, inplace=True)\n",
    "cleared_data.drop(cleared_data[cleared_data[\"AIR_TIME\"] <= 0].index, inplace=True)\n",
    "cleared_data.reset_index(inplace=True, drop=True)"
   ]
  },
  {
   "cell_type": "code",
   "execution_count": 11,
   "metadata": {},
   "outputs": [],
   "source": [
    "origin_city_names = cleared_data[\"ORIGIN_CITY_NAME\"].drop_duplicates().tolist()\n",
    "dest_city_names = cleared_data[\"DEST_CITY_NAME\"].drop_duplicates().tolist()\n",
    "all_possible_city_names = list(set(origin_city_names).union(set(dest_city_names)))\n"
   ]
  },
  {
   "cell_type": "code",
   "execution_count": 12,
   "metadata": {},
   "outputs": [],
   "source": [
    "cities_df = pd.DataFrame({\"City\": all_possible_city_names})\n",
    "cities_df.to_csv(\"cities.csv\")\n",
    "cleared_data.to_csv(\"cleared_data.csv\")"
   ]
  }
 ],
 "metadata": {
  "kernelspec": {
   "display_name": ".venv",
   "language": "python",
   "name": "python3"
  },
  "language_info": {
   "codemirror_mode": {
    "name": "ipython",
    "version": 3
   },
   "file_extension": ".py",
   "mimetype": "text/x-python",
   "name": "python",
   "nbconvert_exporter": "python",
   "pygments_lexer": "ipython3",
   "version": "3.10.12"
  }
 },
 "nbformat": 4,
 "nbformat_minor": 2
}
